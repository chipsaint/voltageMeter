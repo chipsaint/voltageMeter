{
 "cells": [
  {
   "cell_type": "markdown",
   "metadata": {},
   "source": [
    "# PMRR Voltage Reader v2.0\n",
    "\n",
    "#### Modify .csv file\n",
    "Put this in the first line of the .csv file:\n",
    "time,day,line,voltage,\n",
    "\n",
    "Put the .csv file in the same directory as the Jupyter Notebook file (.ipynb)\n",
    "\n",
    "#### Running the Code\n",
    "Make sure you have pandas and plotly installed\n",
    "Importing libraries"
   ]
  },
  {
   "cell_type": "code",
   "execution_count": 44,
   "metadata": {
    "scrolled": false
   },
   "outputs": [],
   "source": [
    "import pandas as pd\n",
    "import plotly\n",
    "import plotly.graph_objects as go"
   ]
  },
  {
   "cell_type": "markdown",
   "metadata": {},
   "source": [
    "Change the file name then Run all cells to generate plot"
   ]
  },
  {
   "cell_type": "code",
   "execution_count": null,
   "metadata": {},
   "outputs": [],
   "source": [
    "filename = '20201013.csv'"
   ]
  },
  {
   "cell_type": "code",
   "execution_count": null,
   "metadata": {},
   "outputs": [],
   "source": [
    "df = pd.read_csv(filename,low_memory=False)\n",
    "df.head()\n",
    "df.drop(df.columns[df.columns.str.contains('unnamed',case = False)],axis = 1, inplace = True)\n",
    "df.head()\n",
    "\n",
    "dataEM1V = df[df['line']=='EM1-V']\n",
    "dataEM2V = df[df['line']=='EM2-V']\n",
    "dataEM3V = df[df['line']=='EM3-V']\n",
    "dataEM3V.head()\n",
    "\n",
    "fig = go.Figure()\n",
    "fig.add_trace(go.Scatter(x=dataEM1V['time'],y=dataEM1V['voltage'],mode='lines',name='EM1-V'))\n",
    "fig.add_trace(go.Scatter(x=dataEM2V['time'],y=dataEM2V['voltage'],mode='lines',name='EM2-V'))\n",
    "fig.add_trace(go.Scatter(x=dataEM3V['time'],y=dataEM3V['voltage'],mode='lines',name='EM3-V'))\n",
    "fig.update_layout(\n",
    "    title=filename[0:4]+\"-\"+filename[4:6]+\"-\"+filename[6:8],\n",
    "    xaxis_title='Time of Day',\n",
    "    yaxis_title ='Voltage'\n",
    ")\n",
    "fig.update_yaxes(range=[200, 260])"
   ]
  }
 ],
 "metadata": {
  "kernelspec": {
   "display_name": "Python 3",
   "language": "python",
   "name": "python3"
  },
  "language_info": {
   "codemirror_mode": {
    "name": "ipython",
    "version": 3
   },
   "file_extension": ".py",
   "mimetype": "text/x-python",
   "name": "python",
   "nbconvert_exporter": "python",
   "pygments_lexer": "ipython3",
   "version": "3.8.3"
  }
 },
 "nbformat": 4,
 "nbformat_minor": 4
}
